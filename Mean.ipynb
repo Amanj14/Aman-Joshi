{
 "cells": [
  {
   "cell_type": "markdown",
   "id": "aa5568ac",
   "metadata": {},
   "source": [
    "# Que:-\n",
    "### Create a Function which can take any number of numerical arguments, calculate Arithmetic Mean, Geometric Mean and Harmonic Mean"
   ]
  },
  {
   "cell_type": "code",
   "execution_count": 42,
   "id": "a20a61e9",
   "metadata": {},
   "outputs": [],
   "source": [
    "import statistics\n",
    "\n",
    "def num_arg(*orgs):\n",
    "    gm = 1\n",
    "    for i in orgs:\n",
    "        agh = input(\"What you want to calculatge: Arithemetic , Geometric , Harmonic  : \")\n",
    "        break\n",
    "    if agh == 'Arithemetic' :\n",
    "        print('Arithemetic mean =',sum(orgs)/(len(orgs)))\n",
    "        \n",
    "    elif agh == 'Geometric' :\n",
    "        for i in orgs:\n",
    "            gm=gm*i**(1/len(orgs))\n",
    "        print('Geometric mean =',gm)\n",
    "    elif agh == 'Harmonic':\n",
    "              print('Harmonic mean =',statistics.harmonic_mean(orgs))\n",
    "    else:\n",
    "        print(\"Invalid input\")"
   ]
  },
  {
   "cell_type": "code",
   "execution_count": 43,
   "id": "0cf35d8b",
   "metadata": {},
   "outputs": [
    {
     "name": "stdout",
     "output_type": "stream",
     "text": [
      "What you want to calculatge: Arithemetic , Geometric , Harmonic  : Harmonic\n",
      "Harmonic mean = 2.4\n"
     ]
    }
   ],
   "source": [
    "num_arg(2,3)"
   ]
  }
 ],
 "metadata": {
  "kernelspec": {
   "display_name": "Python 3 (ipykernel)",
   "language": "python",
   "name": "python3"
  },
  "language_info": {
   "codemirror_mode": {
    "name": "ipython",
    "version": 3
   },
   "file_extension": ".py",
   "mimetype": "text/x-python",
   "name": "python",
   "nbconvert_exporter": "python",
   "pygments_lexer": "ipython3",
   "version": "3.9.13"
  }
 },
 "nbformat": 4,
 "nbformat_minor": 5
}
